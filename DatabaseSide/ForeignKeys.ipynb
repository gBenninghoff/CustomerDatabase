{
    "metadata": {
        "kernelspec": {
            "name": "SQL",
            "display_name": "SQL",
            "language": "sql"
        },
        "language_info": {
            "name": "sql",
            "version": ""
        }
    },
    "nbformat_minor": 2,
    "nbformat": 4,
    "cells": [
        {
            "cell_type": "markdown",
            "source": [
                "Updating some tables with Foreign Keys"
            ],
            "metadata": {
                "azdata_cell_guid": "325362d6-c998-49c6-8826-6562cdfaa9fb"
            },
            "attachments": {}
        },
        {
            "cell_type": "code",
            "source": [
                ""
            ],
            "metadata": {
                "azdata_cell_guid": "4b9c6e43-b1fe-41a1-8d7d-7d8c0148db65",
                "language": "sql"
            },
            "outputs": [],
            "execution_count": null
        }
    ]
}