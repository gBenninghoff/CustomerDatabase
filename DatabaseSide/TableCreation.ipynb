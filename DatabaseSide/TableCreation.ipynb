{
    "metadata": {
        "kernelspec": {
            "name": "SQL",
            "display_name": "SQL",
            "language": "sql"
        },
        "language_info": {
            "name": "sql",
            "version": ""
        }
    },
    "nbformat_minor": 2,
    "nbformat": 4,
    "cells": [
        {
            "cell_type": "code",
            "source": [
                "USE CrazyCleanCarptes"
            ],
            "metadata": {
                "azdata_cell_guid": "4f9f8acd-a9af-4afc-a2b0-beeb490f3711",
                "language": "sql"
            },
            "outputs": [
                {
                    "output_type": "display_data",
                    "data": {
                        "text/html": "Commands completed successfully."
                    },
                    "metadata": {}
                },
                {
                    "output_type": "display_data",
                    "data": {
                        "text/html": "Total execution time: 00:00:00.011"
                    },
                    "metadata": {}
                }
            ],
            "execution_count": 1
        },
        {
            "cell_type": "code",
            "source": [
                "CREATE TABLE Appointments (\n",
                "    appt_id INT PRIMARY KEY,\n",
                "    service_id INT,\n",
                "    appt_date DATE,\n",
                "    appt_time TIME\n",
                ")"
            ],
            "metadata": {
                "azdata_cell_guid": "724ccf89-2a1e-4cf2-ade5-b52f8f9c7c2d",
                "language": "sql"
            },
            "outputs": [
                {
                    "output_type": "display_data",
                    "data": {
                        "text/html": "Commands completed successfully."
                    },
                    "metadata": {}
                },
                {
                    "output_type": "display_data",
                    "data": {
                        "text/html": "Total execution time: 00:00:00.006"
                    },
                    "metadata": {}
                }
            ],
            "execution_count": 2
        },
        {
            "cell_type": "code",
            "source": [
                "CREATE TABLE Employee (\n",
                "    employee_id INT PRIMARY KEY,\n",
                "    em_first_name VARCHAR(50),\n",
                "    em_last_name VARCHAR(50)\n",
                ")"
            ],
            "metadata": {
                "azdata_cell_guid": "b3f7ca98-8974-4513-915d-802b5f2c785d",
                "language": "sql"
            },
            "outputs": [
                {
                    "output_type": "display_data",
                    "data": {
                        "text/html": "Commands completed successfully."
                    },
                    "metadata": {}
                },
                {
                    "output_type": "display_data",
                    "data": {
                        "text/html": "Total execution time: 00:00:00.005"
                    },
                    "metadata": {}
                }
            ],
            "execution_count": 3
        },
        {
            "cell_type": "code",
            "source": [
                "CREATE TABLE Card(\n",
                "    card_no INT PRIMARY KEY,\n",
                "    card_lname VARCHAR(50),\n",
                "    card_fname VARCHAR(50),\n",
                "    exp_date DATE,\n",
                "    cvc INT,\n",
                "    bank VARCHAR(50)\n",
                ")"
            ],
            "metadata": {
                "azdata_cell_guid": "2e55d5c6-b5a4-4378-b021-fcf2e3e3f266",
                "language": "sql"
            },
            "outputs": [
                {
                    "output_type": "display_data",
                    "data": {
                        "text/html": "Commands completed successfully."
                    },
                    "metadata": {}
                },
                {
                    "output_type": "display_data",
                    "data": {
                        "text/html": "Total execution time: 00:00:00.010"
                    },
                    "metadata": {}
                }
            ],
            "execution_count": 4
        },
        {
            "cell_type": "code",
            "source": [
                "CREATE TABLE  Customer(\n",
                "    customer_id INT PRIMARY KEY,\n",
                "    cu_first_name VARCHAR(50),\n",
                "    cu_last_name VARCHAR(50),\n",
                "    phone_nu INT,\n",
                "    street VARCHAR(50),\n",
                "    cu_state VARCHAR(50),\n",
                "    cu_zip INT\n",
                ") "
            ],
            "metadata": {
                "azdata_cell_guid": "d5438fdd-099a-452f-9bd8-1daf20087a25",
                "language": "sql",
                "tags": []
            },
            "outputs": [
                {
                    "output_type": "display_data",
                    "data": {
                        "text/html": "Commands completed successfully."
                    },
                    "metadata": {}
                },
                {
                    "output_type": "display_data",
                    "data": {
                        "text/html": "Total execution time: 00:00:00.005"
                    },
                    "metadata": {}
                }
            ],
            "execution_count": 5
        },
        {
            "cell_type": "code",
            "source": [
                "CREATE TABLE Service(\n",
                "    service_id INT PRIMARY KEY,\n",
                "    customer_id INT,\n",
                "    service_cost INT,\n",
                "    employee_id INT,\n",
                "    FOREIGN KEY (customer_id) REFERENCES Customer(customer_id)\n",
                ")"
            ],
            "metadata": {
                "azdata_cell_guid": "2ab097b6-6ebc-42ac-b150-49d93ab9d158",
                "language": "sql",
                "tags": []
            },
            "outputs": [
                {
                    "output_type": "display_data",
                    "data": {
                        "text/html": "Commands completed successfully."
                    },
                    "metadata": {}
                },
                {
                    "output_type": "display_data",
                    "data": {
                        "text/html": "Total execution time: 00:00:00.005"
                    },
                    "metadata": {}
                }
            ],
            "execution_count": 6
        }
    ]
}