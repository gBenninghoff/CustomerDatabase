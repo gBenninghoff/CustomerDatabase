{
    "metadata": {
        "kernelspec": {
            "name": "SQL",
            "display_name": "SQL",
            "language": "sql"
        },
        "language_info": {
            "name": "sql",
            "version": ""
        }
    },
    "nbformat_minor": 2,
    "nbformat": 4,
    "cells": [
        {
            "cell_type": "code",
            "source": [
                "USE CrazyCleanCarptes"
            ],
            "metadata": {
                "azdata_cell_guid": "4f9f8acd-a9af-4afc-a2b0-beeb490f3711",
                "language": "sql"
            },
            "outputs": [
                {
                    "output_type": "display_data",
                    "data": {
                        "text/html": "Commands completed successfully."
                    },
                    "metadata": {}
                },
                {
                    "output_type": "display_data",
                    "data": {
                        "text/html": "Total execution time: 00:00:00.002"
                    },
                    "metadata": {}
                }
            ],
            "execution_count": 8
        },
        {
            "cell_type": "code",
            "source": [
                "CREATE TABLE  Customer(\n",
                "    customer_id INT PRIMARY KEY IDENTITY (1,1),\n",
                "    cu_first_name VARCHAR(50),\n",
                "    cu_last_name VARCHAR(50),\n",
                "    phone_nu BIGINT,\n",
                "    street VARCHAR(50),\n",
                "    cu_city VARCHAR(50),\n",
                "    cu_state VARCHAR(50),\n",
                "    cu_zip BIGINT\n",
                ") "
            ],
            "metadata": {
                "azdata_cell_guid": "d5438fdd-099a-452f-9bd8-1daf20087a25",
                "language": "sql",
                "tags": []
            },
            "outputs": [
                {
                    "output_type": "display_data",
                    "data": {
                        "text/html": "Commands completed successfully."
                    },
                    "metadata": {}
                },
                {
                    "output_type": "display_data",
                    "data": {
                        "text/html": "Total execution time: 00:00:00.007"
                    },
                    "metadata": {}
                }
            ],
            "execution_count": 9
        },
        {
            "cell_type": "code",
            "source": [
                "CREATE TABLE Employee (\n",
                "    employee_id INT PRIMARY KEY IDENTITY (1,1),\n",
                "    em_first_name VARCHAR(50),\n",
                "    em_last_name VARCHAR(50)\n",
                ")"
            ],
            "metadata": {
                "azdata_cell_guid": "b3f7ca98-8974-4513-915d-802b5f2c785d",
                "language": "sql"
            },
            "outputs": [
                {
                    "output_type": "display_data",
                    "data": {
                        "text/html": "Commands completed successfully."
                    },
                    "metadata": {}
                },
                {
                    "output_type": "display_data",
                    "data": {
                        "text/html": "Total execution time: 00:00:00.008"
                    },
                    "metadata": {}
                }
            ],
            "execution_count": 10
        },
        {
            "cell_type": "code",
            "source": [
                "CREATE TABLE Card(\n",
                "    card_no BIGINT PRIMARY KEY,\n",
                "    card_fname VARCHAR(50),\n",
                "    card_lname VARCHAR(50),\n",
                "    exp_date DATE,\n",
                "    cvc INT,\n",
                "    bank VARCHAR(50),\n",
                "    customer_id INT,\n",
                "    FOREIGN KEY (customer_id) REFERENCES Customer(customer_id)\n",
                ")"
            ],
            "metadata": {
                "azdata_cell_guid": "2e55d5c6-b5a4-4378-b021-fcf2e3e3f266",
                "language": "sql"
            },
            "outputs": [
                {
                    "output_type": "error",
                    "evalue": "Msg 1767, Level 16, State 0, Line 1\nForeign key 'FK__Card__customer_i__38B96646' references invalid table 'Customer'.",
                    "ename": "",
                    "traceback": []
                },
                {
                    "output_type": "error",
                    "evalue": "Msg 1750, Level 16, State 1, Line 1\nCould not create constraint or index. See previous errors.",
                    "ename": "",
                    "traceback": []
                },
                {
                    "output_type": "display_data",
                    "data": {
                        "text/html": "Total execution time: 00:00:00.017"
                    },
                    "metadata": {}
                }
            ],
            "execution_count": 1
        },
        {
            "cell_type": "code",
            "source": [
                "CREATE TABLE ServiceRecord(\n",
                "    service_id INT PRIMARY KEY IDENTITY (1,1),\n",
                "    customer_id INT,\n",
                "    service_cost INT,\n",
                "    FOREIGN KEY (customer_id) REFERENCES Customer(customer_id)\n",
                ")"
            ],
            "metadata": {
                "azdata_cell_guid": "2ab097b6-6ebc-42ac-b150-49d93ab9d158",
                "language": "sql",
                "tags": []
            },
            "outputs": [
                {
                    "output_type": "display_data",
                    "data": {
                        "text/html": "Commands completed successfully."
                    },
                    "metadata": {}
                },
                {
                    "output_type": "display_data",
                    "data": {
                        "text/html": "Total execution time: 00:00:00.009"
                    },
                    "metadata": {}
                }
            ],
            "execution_count": 12
        },
        {
            "cell_type": "code",
            "source": [
                "CREATE TABLE Appointments (\n",
                "    appt_id INT PRIMARY KEY IDENTITY (1,1),\n",
                "    service_id INT,\n",
                "    appt_date DATE,\n",
                "    appt_time TIME,\n",
                "    customer_id INT,\n",
                "    FOREIGN KEY (service_id) REFERENCES ServiceRecord(service_id),\n",
                "    FOREIGN KEY (customer_id) REFERENCES Customer(customer_id)\n",
                ")"
            ],
            "metadata": {
                "azdata_cell_guid": "ec06ad9f-c840-4b83-b6aa-487d79dcfd6e",
                "language": "sql"
            },
            "outputs": [
                {
                    "output_type": "display_data",
                    "data": {
                        "text/html": "Commands completed successfully."
                    },
                    "metadata": {}
                },
                {
                    "output_type": "display_data",
                    "data": {
                        "text/html": "Total execution time: 00:00:00.008"
                    },
                    "metadata": {}
                }
            ],
            "execution_count": 13
        }
    ]
}