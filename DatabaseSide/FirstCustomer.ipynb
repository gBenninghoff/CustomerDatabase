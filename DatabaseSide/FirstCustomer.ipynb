{
    "metadata": {
        "kernelspec": {
            "name": "SQL",
            "display_name": "SQL",
            "language": "sql"
        },
        "language_info": {
            "name": "sql",
            "version": ""
        }
    },
    "nbformat_minor": 2,
    "nbformat": 4,
    "cells": [
        {
            "cell_type": "code",
            "source": [
                "USE CrazyCleanCarptes\n",
                "INSERT INTO [Card] (card_no, card_fname, card_lname, exp_date, cvc, bank) VALUES (1, 'Gabe', 'Benninghoff', '2024-12-12', 112, 'Mastercard')"
            ],
            "metadata": {
                "azdata_cell_guid": "b49c4028-fd2c-4209-b36e-d347ce163bed",
                "language": "sql"
            },
            "outputs": [
                {
                    "output_type": "display_data",
                    "data": {
                        "text/html": "(1 row affected)"
                    },
                    "metadata": {}
                },
                {
                    "output_type": "display_data",
                    "data": {
                        "text/html": "Total execution time: 00:00:00.006"
                    },
                    "metadata": {}
                }
            ],
            "execution_count": 9
        }
    ]
}